{
 "cells": [
  {
   "cell_type": "markdown",
   "metadata": {},
   "source": [
    "## NAME - ANUJ SINGLA\n",
    "## COLLEGE - THAPAR INSTITTUTE OF ENGINEERING AND TECHNOLOGY"
   ]
  },
  {
   "cell_type": "code",
   "execution_count": 2,
   "metadata": {},
   "outputs": [],
   "source": [
    "import pandas as pd\n",
    "import numpy as np\n",
    "import matplotlib.pyplot as plt\n",
    "import seaborn as sns"
   ]
  },
  {
   "cell_type": "markdown",
   "metadata": {},
   "source": [
    "# Loading the dataset"
   ]
  },
  {
   "cell_type": "code",
   "execution_count": 11,
   "metadata": {},
   "outputs": [],
   "source": [
    "df=pd.read_csv(r\"C:\\Users\\hp\\Downloads\\analysis.csv\")\n",
    "df=df.drop(['Timestamp'],axis=1)"
   ]
  },
  {
   "cell_type": "code",
   "execution_count": 19,
   "metadata": {},
   "outputs": [
    {
     "name": "stdout",
     "output_type": "stream",
     "text": [
      "<class 'pandas.core.frame.DataFrame'>\n",
      "RangeIndex: 140 entries, 0 to 139\n",
      "Data columns (total 6 columns):\n",
      " #   Column                     Non-Null Count  Dtype \n",
      "---  ------                     --------------  ----- \n",
      " 0   Gender                     140 non-null    object\n",
      " 1   Age                        140 non-null    object\n",
      " 2   City                       140 non-null    object\n",
      " 3   Region                     140 non-null    object\n",
      " 4   State                      140 non-null    object\n",
      " 5   Choose a product category  140 non-null    object\n",
      "dtypes: object(6)\n",
      "memory usage: 6.7+ KB\n"
     ]
    }
   ],
   "source": [
    "df.info()"
   ]
  },
  {
   "cell_type": "markdown",
   "metadata": {},
   "source": [
    "# Preprocessing of data"
   ]
  },
  {
   "cell_type": "code",
   "execution_count": 6,
   "metadata": {},
   "outputs": [
    {
     "data": {
      "text/plain": [
       "Gender                       0\n",
       "Age                          0\n",
       "City                         0\n",
       "Region                       0\n",
       "State                        0\n",
       "Choose a product category    0\n",
       "dtype: int64"
      ]
     },
     "execution_count": 6,
     "metadata": {},
     "output_type": "execute_result"
    }
   ],
   "source": [
    "# checking for null values\n",
    "\n",
    "df.isnull().sum()"
   ]
  },
  {
   "cell_type": "code",
   "execution_count": null,
   "metadata": {},
   "outputs": [],
   "source": [
    "# so there is no null values in this dataset"
   ]
  },
  {
   "cell_type": "code",
   "execution_count": 12,
   "metadata": {},
   "outputs": [],
   "source": [
    "# as we know that state and regions are highly correlated to each other, as states and regions are dependent on eachother so\n",
    "# we have to drop one out of two columns.\n",
    "\n",
    "# we will visualize and train our model w.r.t regions so will drop another columns i.e. states\n",
    "\n",
    "df.drop(['State'],inplace=True,axis=1)"
   ]
  },
  {
   "cell_type": "code",
   "execution_count": 13,
   "metadata": {},
   "outputs": [
    {
     "data": {
      "text/html": [
       "<div>\n",
       "<style scoped>\n",
       "    .dataframe tbody tr th:only-of-type {\n",
       "        vertical-align: middle;\n",
       "    }\n",
       "\n",
       "    .dataframe tbody tr th {\n",
       "        vertical-align: top;\n",
       "    }\n",
       "\n",
       "    .dataframe thead th {\n",
       "        text-align: right;\n",
       "    }\n",
       "</style>\n",
       "<table border=\"1\" class=\"dataframe\">\n",
       "  <thead>\n",
       "    <tr style=\"text-align: right;\">\n",
       "      <th></th>\n",
       "      <th>Gender</th>\n",
       "      <th>Age</th>\n",
       "      <th>City</th>\n",
       "      <th>Region</th>\n",
       "      <th>Choose a product category</th>\n",
       "    </tr>\n",
       "  </thead>\n",
       "  <tbody>\n",
       "    <tr>\n",
       "      <th>0</th>\n",
       "      <td>Male</td>\n",
       "      <td>21-25</td>\n",
       "      <td>Tier 3 City</td>\n",
       "      <td>Northern India</td>\n",
       "      <td>Accessories(wallets, shoes, jackets etc.)</td>\n",
       "    </tr>\n",
       "    <tr>\n",
       "      <th>1</th>\n",
       "      <td>Female</td>\n",
       "      <td>21-25</td>\n",
       "      <td>Tier 3 City</td>\n",
       "      <td>Northern India</td>\n",
       "      <td>Personal care and grooming products(perfume, m...</td>\n",
       "    </tr>\n",
       "    <tr>\n",
       "      <th>2</th>\n",
       "      <td>Female</td>\n",
       "      <td>15-20</td>\n",
       "      <td>Tier 2 City</td>\n",
       "      <td>Northern India</td>\n",
       "      <td>Personal care and grooming products(perfume, m...</td>\n",
       "    </tr>\n",
       "    <tr>\n",
       "      <th>3</th>\n",
       "      <td>Male</td>\n",
       "      <td>15-20</td>\n",
       "      <td>Tier 2 City</td>\n",
       "      <td>Northern India</td>\n",
       "      <td>Accessories(wallets, shoes, jackets etc.)</td>\n",
       "    </tr>\n",
       "    <tr>\n",
       "      <th>4</th>\n",
       "      <td>Male</td>\n",
       "      <td>15-20</td>\n",
       "      <td>Tier 2 City</td>\n",
       "      <td>Northern India</td>\n",
       "      <td>Devices(earphones, smart watches, headphones e...</td>\n",
       "    </tr>\n",
       "    <tr>\n",
       "      <th>...</th>\n",
       "      <td>...</td>\n",
       "      <td>...</td>\n",
       "      <td>...</td>\n",
       "      <td>...</td>\n",
       "      <td>...</td>\n",
       "    </tr>\n",
       "    <tr>\n",
       "      <th>135</th>\n",
       "      <td>Male</td>\n",
       "      <td>21-25</td>\n",
       "      <td>Tier 1 City</td>\n",
       "      <td>Southern India</td>\n",
       "      <td>Subscription of Streaming platforms(Amazon pri...</td>\n",
       "    </tr>\n",
       "    <tr>\n",
       "      <th>136</th>\n",
       "      <td>Male</td>\n",
       "      <td>21-25</td>\n",
       "      <td>Tier 3 City</td>\n",
       "      <td>Southern India</td>\n",
       "      <td>Accessories(wallets, shoes, jackets etc.), Novels</td>\n",
       "    </tr>\n",
       "    <tr>\n",
       "      <th>137</th>\n",
       "      <td>Male</td>\n",
       "      <td>15-20</td>\n",
       "      <td>Tier 3 City</td>\n",
       "      <td>Southern India</td>\n",
       "      <td>Devices(earphones, smart watches, headphones e...</td>\n",
       "    </tr>\n",
       "    <tr>\n",
       "      <th>138</th>\n",
       "      <td>Female</td>\n",
       "      <td>15-20</td>\n",
       "      <td>Tier 2 City</td>\n",
       "      <td>Southern India</td>\n",
       "      <td>Accessories(wallets, shoes, jackets etc.), Dev...</td>\n",
       "    </tr>\n",
       "    <tr>\n",
       "      <th>139</th>\n",
       "      <td>Female</td>\n",
       "      <td>15-20</td>\n",
       "      <td>Tier 1 City</td>\n",
       "      <td>Southern India</td>\n",
       "      <td>Accessories(wallets, shoes, jackets etc.), Nov...</td>\n",
       "    </tr>\n",
       "  </tbody>\n",
       "</table>\n",
       "<p>140 rows × 5 columns</p>\n",
       "</div>"
      ],
      "text/plain": [
       "     Gender    Age         City          Region  \\\n",
       "0      Male  21-25  Tier 3 City  Northern India   \n",
       "1    Female  21-25  Tier 3 City  Northern India   \n",
       "2    Female  15-20  Tier 2 City  Northern India   \n",
       "3      Male  15-20  Tier 2 City  Northern India   \n",
       "4      Male  15-20  Tier 2 City  Northern India   \n",
       "..      ...    ...          ...             ...   \n",
       "135    Male  21-25  Tier 1 City  Southern India   \n",
       "136    Male  21-25  Tier 3 City  Southern India   \n",
       "137    Male  15-20  Tier 3 City  Southern India   \n",
       "138  Female  15-20  Tier 2 City  Southern India   \n",
       "139  Female  15-20  Tier 1 City  Southern India   \n",
       "\n",
       "                             Choose a product category  \n",
       "0            Accessories(wallets, shoes, jackets etc.)  \n",
       "1    Personal care and grooming products(perfume, m...  \n",
       "2    Personal care and grooming products(perfume, m...  \n",
       "3            Accessories(wallets, shoes, jackets etc.)  \n",
       "4    Devices(earphones, smart watches, headphones e...  \n",
       "..                                                 ...  \n",
       "135  Subscription of Streaming platforms(Amazon pri...  \n",
       "136  Accessories(wallets, shoes, jackets etc.), Novels  \n",
       "137  Devices(earphones, smart watches, headphones e...  \n",
       "138  Accessories(wallets, shoes, jackets etc.), Dev...  \n",
       "139  Accessories(wallets, shoes, jackets etc.), Nov...  \n",
       "\n",
       "[140 rows x 5 columns]"
      ]
     },
     "execution_count": 13,
     "metadata": {},
     "output_type": "execute_result"
    }
   ],
   "source": [
    "df"
   ]
  },
  {
   "cell_type": "markdown",
   "metadata": {},
   "source": [
    "#### now this is the multilabel dataset as our target variable is \"Choose a product category\" so we have to make our dataset siutable for model training for multilabel dataset"
   ]
  },
  {
   "cell_type": "code",
   "execution_count": 14,
   "metadata": {},
   "outputs": [],
   "source": [
    "d=pd.DataFrame(columns=['Accessories(wallets, shoes, jackets etc.)',\n",
    "                        \"Personal care and grooming products(perfume, makeup products etc.)\",\n",
    "                        \"Devices(earphones, smart watches, headphones etc.)\",\n",
    "                        \"Subscription of Streaming platforms(Amazon prime, Netflix etc.)\",\"Novels\"])"
   ]
  },
  {
   "cell_type": "code",
   "execution_count": 15,
   "metadata": {},
   "outputs": [],
   "source": [
    "r,c=df.shape\n",
    "for i in range(r):\n",
    "    d.loc[i] = [0,0,0,0,0]"
   ]
  },
  {
   "cell_type": "code",
   "execution_count": 16,
   "metadata": {},
   "outputs": [],
   "source": [
    "for i in range(r):\n",
    "    d['Accessories(wallets, shoes, jackets etc.)'][i]=1 if \"Accessories(wallets, shoes, jackets etc.)\" in df['Choose a product category'][i] else 0\n",
    "    d['Personal care and grooming products(perfume, makeup products etc.)'][i]=1 if \"Personal care and grooming products(perfume, makeup products etc.)\" in df['Choose a product category'][i] else 0\n",
    "    d['Devices(earphones, smart watches, headphones etc.)'][i]=1 if \"Devices(earphones, smart watches, headphones etc.)\" in df['Choose a product category'][i] else 0\n",
    "    d['Subscription of Streaming platforms(Amazon prime, Netflix etc.)'][i]=1 if \"Subscription of Streaming platforms(Amazon prime, Netflix etc.)\" in df['Choose a product category'][i] else 0\n",
    "    d['Novels'][i]=1 if \"Novels\" in df['Choose a product category'][i] else 0"
   ]
  },
  {
   "cell_type": "code",
   "execution_count": 17,
   "metadata": {},
   "outputs": [
    {
     "data": {
      "text/html": [
       "<div>\n",
       "<style scoped>\n",
       "    .dataframe tbody tr th:only-of-type {\n",
       "        vertical-align: middle;\n",
       "    }\n",
       "\n",
       "    .dataframe tbody tr th {\n",
       "        vertical-align: top;\n",
       "    }\n",
       "\n",
       "    .dataframe thead th {\n",
       "        text-align: right;\n",
       "    }\n",
       "</style>\n",
       "<table border=\"1\" class=\"dataframe\">\n",
       "  <thead>\n",
       "    <tr style=\"text-align: right;\">\n",
       "      <th></th>\n",
       "      <th>Accessories(wallets, shoes, jackets etc.)</th>\n",
       "      <th>Personal care and grooming products(perfume, makeup products etc.)</th>\n",
       "      <th>Devices(earphones, smart watches, headphones etc.)</th>\n",
       "      <th>Subscription of Streaming platforms(Amazon prime, Netflix etc.)</th>\n",
       "      <th>Novels</th>\n",
       "    </tr>\n",
       "  </thead>\n",
       "  <tbody>\n",
       "    <tr>\n",
       "      <th>135</th>\n",
       "      <td>1</td>\n",
       "      <td>0</td>\n",
       "      <td>0</td>\n",
       "      <td>1</td>\n",
       "      <td>0</td>\n",
       "    </tr>\n",
       "    <tr>\n",
       "      <th>136</th>\n",
       "      <td>1</td>\n",
       "      <td>0</td>\n",
       "      <td>0</td>\n",
       "      <td>0</td>\n",
       "      <td>1</td>\n",
       "    </tr>\n",
       "    <tr>\n",
       "      <th>137</th>\n",
       "      <td>0</td>\n",
       "      <td>0</td>\n",
       "      <td>1</td>\n",
       "      <td>0</td>\n",
       "      <td>1</td>\n",
       "    </tr>\n",
       "    <tr>\n",
       "      <th>138</th>\n",
       "      <td>1</td>\n",
       "      <td>0</td>\n",
       "      <td>1</td>\n",
       "      <td>0</td>\n",
       "      <td>0</td>\n",
       "    </tr>\n",
       "    <tr>\n",
       "      <th>139</th>\n",
       "      <td>1</td>\n",
       "      <td>1</td>\n",
       "      <td>0</td>\n",
       "      <td>0</td>\n",
       "      <td>1</td>\n",
       "    </tr>\n",
       "  </tbody>\n",
       "</table>\n",
       "</div>"
      ],
      "text/plain": [
       "    Accessories(wallets, shoes, jackets etc.)  \\\n",
       "135                                         1   \n",
       "136                                         1   \n",
       "137                                         0   \n",
       "138                                         1   \n",
       "139                                         1   \n",
       "\n",
       "    Personal care and grooming products(perfume, makeup products etc.)  \\\n",
       "135                                                  0                   \n",
       "136                                                  0                   \n",
       "137                                                  0                   \n",
       "138                                                  0                   \n",
       "139                                                  1                   \n",
       "\n",
       "    Devices(earphones, smart watches, headphones etc.)  \\\n",
       "135                                                  0   \n",
       "136                                                  0   \n",
       "137                                                  1   \n",
       "138                                                  1   \n",
       "139                                                  0   \n",
       "\n",
       "    Subscription of Streaming platforms(Amazon prime, Netflix etc.) Novels  \n",
       "135                                                  1                   0  \n",
       "136                                                  0                   1  \n",
       "137                                                  0                   1  \n",
       "138                                                  0                   0  \n",
       "139                                                  0                   1  "
      ]
     },
     "execution_count": 17,
     "metadata": {},
     "output_type": "execute_result"
    }
   ],
   "source": [
    "d.tail()"
   ]
  },
  {
   "cell_type": "code",
   "execution_count": 18,
   "metadata": {},
   "outputs": [],
   "source": [
    "df.drop(['Choose a product category'],axis=1,inplace=True)"
   ]
  },
  {
   "cell_type": "markdown",
   "metadata": {},
   "source": [
    "#### also we have to convert all categorical features to numerical features so that we can feed this data to train the model"
   ]
  },
  {
   "cell_type": "code",
   "execution_count": 19,
   "metadata": {},
   "outputs": [],
   "source": [
    "final_df=pd.get_dummies(df)"
   ]
  },
  {
   "cell_type": "code",
   "execution_count": 20,
   "metadata": {
    "scrolled": true
   },
   "outputs": [],
   "source": [
    "# concatinating target variables with final data\n",
    "\n",
    "data=[final_df,d]\n",
    "final_df=pd.concat(data,axis=1)"
   ]
  },
  {
   "cell_type": "code",
   "execution_count": 21,
   "metadata": {},
   "outputs": [
    {
     "data": {
      "text/html": [
       "<div>\n",
       "<style scoped>\n",
       "    .dataframe tbody tr th:only-of-type {\n",
       "        vertical-align: middle;\n",
       "    }\n",
       "\n",
       "    .dataframe tbody tr th {\n",
       "        vertical-align: top;\n",
       "    }\n",
       "\n",
       "    .dataframe thead th {\n",
       "        text-align: right;\n",
       "    }\n",
       "</style>\n",
       "<table border=\"1\" class=\"dataframe\">\n",
       "  <thead>\n",
       "    <tr style=\"text-align: right;\">\n",
       "      <th></th>\n",
       "      <th>Gender_Female</th>\n",
       "      <th>Gender_Male</th>\n",
       "      <th>Age_15-20</th>\n",
       "      <th>Age_21-25</th>\n",
       "      <th>Age_26-30</th>\n",
       "      <th>City_Tier 1 City</th>\n",
       "      <th>City_Tier 2 City</th>\n",
       "      <th>City_Tier 3 City</th>\n",
       "      <th>Region_Eastern India</th>\n",
       "      <th>Region_Northern India</th>\n",
       "      <th>Region_Southern India</th>\n",
       "      <th>Region_Western India</th>\n",
       "      <th>Accessories(wallets, shoes, jackets etc.)</th>\n",
       "      <th>Personal care and grooming products(perfume, makeup products etc.)</th>\n",
       "      <th>Devices(earphones, smart watches, headphones etc.)</th>\n",
       "      <th>Subscription of Streaming platforms(Amazon prime, Netflix etc.)</th>\n",
       "      <th>Novels</th>\n",
       "    </tr>\n",
       "  </thead>\n",
       "  <tbody>\n",
       "    <tr>\n",
       "      <th>0</th>\n",
       "      <td>0</td>\n",
       "      <td>1</td>\n",
       "      <td>0</td>\n",
       "      <td>1</td>\n",
       "      <td>0</td>\n",
       "      <td>0</td>\n",
       "      <td>0</td>\n",
       "      <td>1</td>\n",
       "      <td>0</td>\n",
       "      <td>1</td>\n",
       "      <td>0</td>\n",
       "      <td>0</td>\n",
       "      <td>1</td>\n",
       "      <td>0</td>\n",
       "      <td>0</td>\n",
       "      <td>0</td>\n",
       "      <td>0</td>\n",
       "    </tr>\n",
       "    <tr>\n",
       "      <th>1</th>\n",
       "      <td>1</td>\n",
       "      <td>0</td>\n",
       "      <td>0</td>\n",
       "      <td>1</td>\n",
       "      <td>0</td>\n",
       "      <td>0</td>\n",
       "      <td>0</td>\n",
       "      <td>1</td>\n",
       "      <td>0</td>\n",
       "      <td>1</td>\n",
       "      <td>0</td>\n",
       "      <td>0</td>\n",
       "      <td>0</td>\n",
       "      <td>1</td>\n",
       "      <td>0</td>\n",
       "      <td>0</td>\n",
       "      <td>0</td>\n",
       "    </tr>\n",
       "    <tr>\n",
       "      <th>2</th>\n",
       "      <td>1</td>\n",
       "      <td>0</td>\n",
       "      <td>1</td>\n",
       "      <td>0</td>\n",
       "      <td>0</td>\n",
       "      <td>0</td>\n",
       "      <td>1</td>\n",
       "      <td>0</td>\n",
       "      <td>0</td>\n",
       "      <td>1</td>\n",
       "      <td>0</td>\n",
       "      <td>0</td>\n",
       "      <td>0</td>\n",
       "      <td>1</td>\n",
       "      <td>0</td>\n",
       "      <td>0</td>\n",
       "      <td>0</td>\n",
       "    </tr>\n",
       "    <tr>\n",
       "      <th>3</th>\n",
       "      <td>0</td>\n",
       "      <td>1</td>\n",
       "      <td>1</td>\n",
       "      <td>0</td>\n",
       "      <td>0</td>\n",
       "      <td>0</td>\n",
       "      <td>1</td>\n",
       "      <td>0</td>\n",
       "      <td>0</td>\n",
       "      <td>1</td>\n",
       "      <td>0</td>\n",
       "      <td>0</td>\n",
       "      <td>1</td>\n",
       "      <td>0</td>\n",
       "      <td>0</td>\n",
       "      <td>0</td>\n",
       "      <td>0</td>\n",
       "    </tr>\n",
       "    <tr>\n",
       "      <th>4</th>\n",
       "      <td>0</td>\n",
       "      <td>1</td>\n",
       "      <td>1</td>\n",
       "      <td>0</td>\n",
       "      <td>0</td>\n",
       "      <td>0</td>\n",
       "      <td>1</td>\n",
       "      <td>0</td>\n",
       "      <td>0</td>\n",
       "      <td>1</td>\n",
       "      <td>0</td>\n",
       "      <td>0</td>\n",
       "      <td>0</td>\n",
       "      <td>0</td>\n",
       "      <td>1</td>\n",
       "      <td>0</td>\n",
       "      <td>0</td>\n",
       "    </tr>\n",
       "    <tr>\n",
       "      <th>...</th>\n",
       "      <td>...</td>\n",
       "      <td>...</td>\n",
       "      <td>...</td>\n",
       "      <td>...</td>\n",
       "      <td>...</td>\n",
       "      <td>...</td>\n",
       "      <td>...</td>\n",
       "      <td>...</td>\n",
       "      <td>...</td>\n",
       "      <td>...</td>\n",
       "      <td>...</td>\n",
       "      <td>...</td>\n",
       "      <td>...</td>\n",
       "      <td>...</td>\n",
       "      <td>...</td>\n",
       "      <td>...</td>\n",
       "      <td>...</td>\n",
       "    </tr>\n",
       "    <tr>\n",
       "      <th>135</th>\n",
       "      <td>0</td>\n",
       "      <td>1</td>\n",
       "      <td>0</td>\n",
       "      <td>1</td>\n",
       "      <td>0</td>\n",
       "      <td>1</td>\n",
       "      <td>0</td>\n",
       "      <td>0</td>\n",
       "      <td>0</td>\n",
       "      <td>0</td>\n",
       "      <td>1</td>\n",
       "      <td>0</td>\n",
       "      <td>1</td>\n",
       "      <td>0</td>\n",
       "      <td>0</td>\n",
       "      <td>1</td>\n",
       "      <td>0</td>\n",
       "    </tr>\n",
       "    <tr>\n",
       "      <th>136</th>\n",
       "      <td>0</td>\n",
       "      <td>1</td>\n",
       "      <td>0</td>\n",
       "      <td>1</td>\n",
       "      <td>0</td>\n",
       "      <td>0</td>\n",
       "      <td>0</td>\n",
       "      <td>1</td>\n",
       "      <td>0</td>\n",
       "      <td>0</td>\n",
       "      <td>1</td>\n",
       "      <td>0</td>\n",
       "      <td>1</td>\n",
       "      <td>0</td>\n",
       "      <td>0</td>\n",
       "      <td>0</td>\n",
       "      <td>1</td>\n",
       "    </tr>\n",
       "    <tr>\n",
       "      <th>137</th>\n",
       "      <td>0</td>\n",
       "      <td>1</td>\n",
       "      <td>1</td>\n",
       "      <td>0</td>\n",
       "      <td>0</td>\n",
       "      <td>0</td>\n",
       "      <td>0</td>\n",
       "      <td>1</td>\n",
       "      <td>0</td>\n",
       "      <td>0</td>\n",
       "      <td>1</td>\n",
       "      <td>0</td>\n",
       "      <td>0</td>\n",
       "      <td>0</td>\n",
       "      <td>1</td>\n",
       "      <td>0</td>\n",
       "      <td>1</td>\n",
       "    </tr>\n",
       "    <tr>\n",
       "      <th>138</th>\n",
       "      <td>1</td>\n",
       "      <td>0</td>\n",
       "      <td>1</td>\n",
       "      <td>0</td>\n",
       "      <td>0</td>\n",
       "      <td>0</td>\n",
       "      <td>1</td>\n",
       "      <td>0</td>\n",
       "      <td>0</td>\n",
       "      <td>0</td>\n",
       "      <td>1</td>\n",
       "      <td>0</td>\n",
       "      <td>1</td>\n",
       "      <td>0</td>\n",
       "      <td>1</td>\n",
       "      <td>0</td>\n",
       "      <td>0</td>\n",
       "    </tr>\n",
       "    <tr>\n",
       "      <th>139</th>\n",
       "      <td>1</td>\n",
       "      <td>0</td>\n",
       "      <td>1</td>\n",
       "      <td>0</td>\n",
       "      <td>0</td>\n",
       "      <td>1</td>\n",
       "      <td>0</td>\n",
       "      <td>0</td>\n",
       "      <td>0</td>\n",
       "      <td>0</td>\n",
       "      <td>1</td>\n",
       "      <td>0</td>\n",
       "      <td>1</td>\n",
       "      <td>1</td>\n",
       "      <td>0</td>\n",
       "      <td>0</td>\n",
       "      <td>1</td>\n",
       "    </tr>\n",
       "  </tbody>\n",
       "</table>\n",
       "<p>140 rows × 17 columns</p>\n",
       "</div>"
      ],
      "text/plain": [
       "     Gender_Female  Gender_Male  Age_15-20  Age_21-25  Age_26-30  \\\n",
       "0                0            1          0          1          0   \n",
       "1                1            0          0          1          0   \n",
       "2                1            0          1          0          0   \n",
       "3                0            1          1          0          0   \n",
       "4                0            1          1          0          0   \n",
       "..             ...          ...        ...        ...        ...   \n",
       "135              0            1          0          1          0   \n",
       "136              0            1          0          1          0   \n",
       "137              0            1          1          0          0   \n",
       "138              1            0          1          0          0   \n",
       "139              1            0          1          0          0   \n",
       "\n",
       "     City_Tier 1 City  City_Tier 2 City  City_Tier 3 City  \\\n",
       "0                   0                 0                 1   \n",
       "1                   0                 0                 1   \n",
       "2                   0                 1                 0   \n",
       "3                   0                 1                 0   \n",
       "4                   0                 1                 0   \n",
       "..                ...               ...               ...   \n",
       "135                 1                 0                 0   \n",
       "136                 0                 0                 1   \n",
       "137                 0                 0                 1   \n",
       "138                 0                 1                 0   \n",
       "139                 1                 0                 0   \n",
       "\n",
       "     Region_Eastern India  Region_Northern India  Region_Southern India  \\\n",
       "0                       0                      1                      0   \n",
       "1                       0                      1                      0   \n",
       "2                       0                      1                      0   \n",
       "3                       0                      1                      0   \n",
       "4                       0                      1                      0   \n",
       "..                    ...                    ...                    ...   \n",
       "135                     0                      0                      1   \n",
       "136                     0                      0                      1   \n",
       "137                     0                      0                      1   \n",
       "138                     0                      0                      1   \n",
       "139                     0                      0                      1   \n",
       "\n",
       "     Region_Western India Accessories(wallets, shoes, jackets etc.)  \\\n",
       "0                       0                                         1   \n",
       "1                       0                                         0   \n",
       "2                       0                                         0   \n",
       "3                       0                                         1   \n",
       "4                       0                                         0   \n",
       "..                    ...                                       ...   \n",
       "135                     0                                         1   \n",
       "136                     0                                         1   \n",
       "137                     0                                         0   \n",
       "138                     0                                         1   \n",
       "139                     0                                         1   \n",
       "\n",
       "    Personal care and grooming products(perfume, makeup products etc.)  \\\n",
       "0                                                    0                   \n",
       "1                                                    1                   \n",
       "2                                                    1                   \n",
       "3                                                    0                   \n",
       "4                                                    0                   \n",
       "..                                                 ...                   \n",
       "135                                                  0                   \n",
       "136                                                  0                   \n",
       "137                                                  0                   \n",
       "138                                                  0                   \n",
       "139                                                  1                   \n",
       "\n",
       "    Devices(earphones, smart watches, headphones etc.)  \\\n",
       "0                                                    0   \n",
       "1                                                    0   \n",
       "2                                                    0   \n",
       "3                                                    0   \n",
       "4                                                    1   \n",
       "..                                                 ...   \n",
       "135                                                  0   \n",
       "136                                                  0   \n",
       "137                                                  1   \n",
       "138                                                  1   \n",
       "139                                                  0   \n",
       "\n",
       "    Subscription of Streaming platforms(Amazon prime, Netflix etc.) Novels  \n",
       "0                                                    0                   0  \n",
       "1                                                    0                   0  \n",
       "2                                                    0                   0  \n",
       "3                                                    0                   0  \n",
       "4                                                    0                   0  \n",
       "..                                                 ...                 ...  \n",
       "135                                                  1                   0  \n",
       "136                                                  0                   1  \n",
       "137                                                  0                   1  \n",
       "138                                                  0                   0  \n",
       "139                                                  0                   1  \n",
       "\n",
       "[140 rows x 17 columns]"
      ]
     },
     "execution_count": 21,
     "metadata": {},
     "output_type": "execute_result"
    }
   ],
   "source": [
    "final_df"
   ]
  },
  {
   "cell_type": "markdown",
   "metadata": {},
   "source": [
    "#### Here we don't need any scaling because out data is already scaled between 0 and 1"
   ]
  },
  {
   "cell_type": "markdown",
   "metadata": {},
   "source": [
    "#### also we have no outliers here in this dataset "
   ]
  },
  {
   "cell_type": "code",
   "execution_count": 22,
   "metadata": {},
   "outputs": [],
   "source": [
    "## here we have very few rows with age group 26-30 so will drop this as it has no effect on our dataset\n",
    "\n",
    "final_df.drop(['Age_26-30'],axis=1,inplace=True)"
   ]
  },
  {
   "cell_type": "code",
   "execution_count": 23,
   "metadata": {},
   "outputs": [
    {
     "data": {
      "text/plain": [
       "(140, 16)"
      ]
     },
     "execution_count": 23,
     "metadata": {},
     "output_type": "execute_result"
    }
   ],
   "source": [
    "final_df.shape"
   ]
  },
  {
   "cell_type": "markdown",
   "metadata": {},
   "source": [
    "#### Now we are ready with out dataset to train our model but before that we will visualize out data"
   ]
  },
  {
   "cell_type": "markdown",
   "metadata": {},
   "source": [
    "# Visualization"
   ]
  },
  {
   "cell_type": "code",
   "execution_count": 40,
   "metadata": {},
   "outputs": [],
   "source": [
    "data1=[df,d]\n",
    "df=pd.concat(data1,axis=1)"
   ]
  },
  {
   "cell_type": "code",
   "execution_count": 60,
   "metadata": {
    "scrolled": false
   },
   "outputs": [
    {
     "data": {
      "text/html": [
       "<div>\n",
       "<style scoped>\n",
       "    .dataframe tbody tr th:only-of-type {\n",
       "        vertical-align: middle;\n",
       "    }\n",
       "\n",
       "    .dataframe tbody tr th {\n",
       "        vertical-align: top;\n",
       "    }\n",
       "\n",
       "    .dataframe thead th {\n",
       "        text-align: right;\n",
       "    }\n",
       "</style>\n",
       "<table border=\"1\" class=\"dataframe\">\n",
       "  <thead>\n",
       "    <tr style=\"text-align: right;\">\n",
       "      <th></th>\n",
       "      <th>Gender</th>\n",
       "      <th>Age</th>\n",
       "      <th>City</th>\n",
       "      <th>Region</th>\n",
       "      <th>Accessories(wallets, shoes, jackets etc.)</th>\n",
       "      <th>Personal care and grooming products(perfume, makeup products etc.)</th>\n",
       "      <th>Devices(earphones, smart watches, headphones etc.)</th>\n",
       "      <th>Subscription of Streaming platforms(Amazon prime, Netflix etc.)</th>\n",
       "      <th>Novels</th>\n",
       "    </tr>\n",
       "  </thead>\n",
       "  <tbody>\n",
       "    <tr>\n",
       "      <th>0</th>\n",
       "      <td>Male</td>\n",
       "      <td>21-25</td>\n",
       "      <td>Tier 3 City</td>\n",
       "      <td>Northern India</td>\n",
       "      <td>1</td>\n",
       "      <td>0</td>\n",
       "      <td>0</td>\n",
       "      <td>0</td>\n",
       "      <td>0</td>\n",
       "    </tr>\n",
       "    <tr>\n",
       "      <th>1</th>\n",
       "      <td>Female</td>\n",
       "      <td>21-25</td>\n",
       "      <td>Tier 3 City</td>\n",
       "      <td>Northern India</td>\n",
       "      <td>0</td>\n",
       "      <td>1</td>\n",
       "      <td>0</td>\n",
       "      <td>0</td>\n",
       "      <td>0</td>\n",
       "    </tr>\n",
       "    <tr>\n",
       "      <th>2</th>\n",
       "      <td>Female</td>\n",
       "      <td>15-20</td>\n",
       "      <td>Tier 2 City</td>\n",
       "      <td>Northern India</td>\n",
       "      <td>0</td>\n",
       "      <td>1</td>\n",
       "      <td>0</td>\n",
       "      <td>0</td>\n",
       "      <td>0</td>\n",
       "    </tr>\n",
       "    <tr>\n",
       "      <th>3</th>\n",
       "      <td>Male</td>\n",
       "      <td>15-20</td>\n",
       "      <td>Tier 2 City</td>\n",
       "      <td>Northern India</td>\n",
       "      <td>1</td>\n",
       "      <td>0</td>\n",
       "      <td>0</td>\n",
       "      <td>0</td>\n",
       "      <td>0</td>\n",
       "    </tr>\n",
       "    <tr>\n",
       "      <th>4</th>\n",
       "      <td>Male</td>\n",
       "      <td>15-20</td>\n",
       "      <td>Tier 2 City</td>\n",
       "      <td>Northern India</td>\n",
       "      <td>0</td>\n",
       "      <td>0</td>\n",
       "      <td>1</td>\n",
       "      <td>0</td>\n",
       "      <td>0</td>\n",
       "    </tr>\n",
       "    <tr>\n",
       "      <th>...</th>\n",
       "      <td>...</td>\n",
       "      <td>...</td>\n",
       "      <td>...</td>\n",
       "      <td>...</td>\n",
       "      <td>...</td>\n",
       "      <td>...</td>\n",
       "      <td>...</td>\n",
       "      <td>...</td>\n",
       "      <td>...</td>\n",
       "    </tr>\n",
       "    <tr>\n",
       "      <th>135</th>\n",
       "      <td>Male</td>\n",
       "      <td>21-25</td>\n",
       "      <td>Tier 1 City</td>\n",
       "      <td>Southern India</td>\n",
       "      <td>1</td>\n",
       "      <td>0</td>\n",
       "      <td>0</td>\n",
       "      <td>1</td>\n",
       "      <td>0</td>\n",
       "    </tr>\n",
       "    <tr>\n",
       "      <th>136</th>\n",
       "      <td>Male</td>\n",
       "      <td>21-25</td>\n",
       "      <td>Tier 3 City</td>\n",
       "      <td>Southern India</td>\n",
       "      <td>1</td>\n",
       "      <td>0</td>\n",
       "      <td>0</td>\n",
       "      <td>0</td>\n",
       "      <td>1</td>\n",
       "    </tr>\n",
       "    <tr>\n",
       "      <th>137</th>\n",
       "      <td>Male</td>\n",
       "      <td>15-20</td>\n",
       "      <td>Tier 3 City</td>\n",
       "      <td>Southern India</td>\n",
       "      <td>0</td>\n",
       "      <td>0</td>\n",
       "      <td>1</td>\n",
       "      <td>0</td>\n",
       "      <td>1</td>\n",
       "    </tr>\n",
       "    <tr>\n",
       "      <th>138</th>\n",
       "      <td>Female</td>\n",
       "      <td>15-20</td>\n",
       "      <td>Tier 2 City</td>\n",
       "      <td>Southern India</td>\n",
       "      <td>1</td>\n",
       "      <td>0</td>\n",
       "      <td>1</td>\n",
       "      <td>0</td>\n",
       "      <td>0</td>\n",
       "    </tr>\n",
       "    <tr>\n",
       "      <th>139</th>\n",
       "      <td>Female</td>\n",
       "      <td>15-20</td>\n",
       "      <td>Tier 1 City</td>\n",
       "      <td>Southern India</td>\n",
       "      <td>1</td>\n",
       "      <td>1</td>\n",
       "      <td>0</td>\n",
       "      <td>0</td>\n",
       "      <td>1</td>\n",
       "    </tr>\n",
       "  </tbody>\n",
       "</table>\n",
       "<p>139 rows × 9 columns</p>\n",
       "</div>"
      ],
      "text/plain": [
       "     Gender    Age         City          Region  \\\n",
       "0      Male  21-25  Tier 3 City  Northern India   \n",
       "1    Female  21-25  Tier 3 City  Northern India   \n",
       "2    Female  15-20  Tier 2 City  Northern India   \n",
       "3      Male  15-20  Tier 2 City  Northern India   \n",
       "4      Male  15-20  Tier 2 City  Northern India   \n",
       "..      ...    ...          ...             ...   \n",
       "135    Male  21-25  Tier 1 City  Southern India   \n",
       "136    Male  21-25  Tier 3 City  Southern India   \n",
       "137    Male  15-20  Tier 3 City  Southern India   \n",
       "138  Female  15-20  Tier 2 City  Southern India   \n",
       "139  Female  15-20  Tier 1 City  Southern India   \n",
       "\n",
       "    Accessories(wallets, shoes, jackets etc.)  \\\n",
       "0                                           1   \n",
       "1                                           0   \n",
       "2                                           0   \n",
       "3                                           1   \n",
       "4                                           0   \n",
       "..                                        ...   \n",
       "135                                         1   \n",
       "136                                         1   \n",
       "137                                         0   \n",
       "138                                         1   \n",
       "139                                         1   \n",
       "\n",
       "    Personal care and grooming products(perfume, makeup products etc.)  \\\n",
       "0                                                    0                   \n",
       "1                                                    1                   \n",
       "2                                                    1                   \n",
       "3                                                    0                   \n",
       "4                                                    0                   \n",
       "..                                                 ...                   \n",
       "135                                                  0                   \n",
       "136                                                  0                   \n",
       "137                                                  0                   \n",
       "138                                                  0                   \n",
       "139                                                  1                   \n",
       "\n",
       "    Devices(earphones, smart watches, headphones etc.)  \\\n",
       "0                                                    0   \n",
       "1                                                    0   \n",
       "2                                                    0   \n",
       "3                                                    0   \n",
       "4                                                    1   \n",
       "..                                                 ...   \n",
       "135                                                  0   \n",
       "136                                                  0   \n",
       "137                                                  1   \n",
       "138                                                  1   \n",
       "139                                                  0   \n",
       "\n",
       "    Subscription of Streaming platforms(Amazon prime, Netflix etc.) Novels  \n",
       "0                                                    0                   0  \n",
       "1                                                    0                   0  \n",
       "2                                                    0                   0  \n",
       "3                                                    0                   0  \n",
       "4                                                    0                   0  \n",
       "..                                                 ...                 ...  \n",
       "135                                                  1                   0  \n",
       "136                                                  0                   1  \n",
       "137                                                  0                   1  \n",
       "138                                                  0                   0  \n",
       "139                                                  0                   1  \n",
       "\n",
       "[139 rows x 9 columns]"
      ]
     },
     "execution_count": 60,
     "metadata": {},
     "output_type": "execute_result"
    }
   ],
   "source": [
    "df= df.loc[df[\"Age\"] != \"26-30\"]\n",
    "df"
   ]
  },
  {
   "cell_type": "markdown",
   "metadata": {},
   "source": [
    "### visualizing count of every product categories with gender"
   ]
  },
  {
   "cell_type": "code",
   "execution_count": 63,
   "metadata": {
    "scrolled": false
   },
   "outputs": [
    {
     "data": {
      "image/png": "[encoded data removed]",
      "text/plain": [
       "<Figure size 1080x1080 with 5 Axes>"
      ]
     },
     "metadata": {
      "needs_background": "light"
     },
     "output_type": "display_data"
    }
   ],
   "source": [
    "plt.figure(figsize=(15,15))\n",
    "\n",
    "plt.subplot(3, 4, 1)\n",
    "sns.countplot(x='Gender',hue='Accessories(wallets, shoes, jackets etc.)',data=df)\n",
    "\n",
    "plt.subplot(3, 4, 4)\n",
    "sns.countplot(x='Gender',hue='Personal care and grooming products(perfume, makeup products etc.)',data=df)\n",
    "\n",
    "plt.subplot(3, 4, 5)\n",
    "sns.countplot(x='Gender',hue='Devices(earphones, smart watches, headphones etc.)',data=df)\n",
    "\n",
    "plt.subplot(3, 4, 8)\n",
    "sns.countplot(x='Gender',hue='Subscription of Streaming platforms(Amazon prime, Netflix etc.)',data=df)\n",
    "\n",
    "plt.subplot(3, 4, 9)\n",
    "sns.countplot(x='Gender',hue='Novels',data=df)\n",
    "\n",
    "plt.show()"
   ]
  },
  {
   "cell_type": "markdown",
   "metadata": {},
   "source": [
    "#### CONCLUSION FROM THIS :-\n",
    "1. MALE do not prefer Personal care and grooming products.\n",
    "2. less number of FEMALE prefer Subscription of Streaming platforms.\n",
    "3. less number of MALE prefer novels than FEMALE.\n",
    "4. less number of FEMALE prefer Accessories(wallets, shoes, jackets etc.)(almost 1/3th).\n",
    "5. MALE prefer Devices than FEMALE"
   ]
  },
  {
   "cell_type": "markdown",
   "metadata": {},
   "source": [
    "### visualizing count of every product categories with city"
   ]
  },
  {
   "cell_type": "code",
   "execution_count": 43,
   "metadata": {
    "scrolled": false
   },
   "outputs": [
    {
     "data": {
      "image/png": "[encoded data removed]",
      "text/plain": [
       "<Figure size 1080x1080 with 5 Axes>"
      ]
     },
     "metadata": {
      "needs_background": "light"
     },
     "output_type": "display_data"
    }
   ],
   "source": [
    "plt.figure(figsize=(15,15))\n",
    "\n",
    "plt.subplot(3, 4, 1)\n",
    "sns.countplot(x='City',hue='Accessories(wallets, shoes, jackets etc.)',data=df)\n",
    "\n",
    "plt.subplot(3, 4, 4)\n",
    "sns.countplot(x='City',hue='Personal care and grooming products(perfume, makeup products etc.)',data=df)\n",
    "\n",
    "plt.subplot(3, 4, 5)\n",
    "sns.countplot(x='City',hue='Devices(earphones, smart watches, headphones etc.)',data=df)\n",
    "\n",
    "plt.subplot(3, 4, 8)\n",
    "sns.countplot(x='City',hue='Subscription of Streaming platforms(Amazon prime, Netflix etc.)',data=df)\n",
    "\n",
    "plt.subplot(3, 4, 9)\n",
    "sns.countplot(x='City',hue='Novels',data=df)\n",
    "\n",
    "plt.show()"
   ]
  },
  {
   "cell_type": "markdown",
   "metadata": {},
   "source": [
    "#### CONCLUSION FROM THIS :-\n",
    "1. very less number of person from tier-3 city and tier-2 prefer Personal care and grooming products\n",
    "2. tier-1 city prefer mostly Devices and Subscription of Streaming platforms\n",
    "3. tier-2 city do not prefer Subscription of Streaming platforms and novels\n",
    "4. novels are also less prefered in tier -3 city"
   ]
  },
  {
   "cell_type": "markdown",
   "metadata": {},
   "source": [
    "### visualizing count of every product categories with Region"
   ]
  },
  {
   "cell_type": "code",
   "execution_count": 44,
   "metadata": {
    "scrolled": false
   },
   "outputs": [
    {
     "data": {
      "image/png": "[encoded data removed]",
      "text/plain": [
       "<Figure size 1440x1440 with 5 Axes>"
      ]
     },
     "metadata": {
      "needs_background": "light"
     },
     "output_type": "display_data"
    }
   ],
   "source": [
    "plt.figure(figsize=(20,20))\n",
    "\n",
    "plt.subplot(3, 4, 1)\n",
    "sns.countplot(x='Region',hue='Accessories(wallets, shoes, jackets etc.)',data=df)\n",
    "\n",
    "plt.subplot(3, 4, 4)\n",
    "sns.countplot(x='Region',hue='Personal care and grooming products(perfume, makeup products etc.)',data=df)\n",
    "\n",
    "plt.subplot(3, 4, 5)\n",
    "sns.countplot(x='Region',hue='Devices(earphones, smart watches, headphones etc.)',data=df)\n",
    "\n",
    "plt.subplot(3, 4, 8)\n",
    "sns.countplot(x='Region',hue='Subscription of Streaming platforms(Amazon prime, Netflix etc.)',data=df)\n",
    "\n",
    "plt.subplot(3, 4, 9)\n",
    "sns.countplot(x='Region',hue='Novels',data=df)\n",
    "\n",
    "plt.show()"
   ]
  },
  {
   "cell_type": "markdown",
   "metadata": {},
   "source": [
    "#### CONCLUSION FROM THIS :-\n",
    "\n",
    "#### as we have very less data availabel of east india so will ignore this region\n",
    "\n",
    "1. very less number of north indians preffer novels and  Personal care and grooming products.\n",
    "2. north indians prefer Devices.\n",
    "3. south indians and west indians prefer novels.\n",
    "4. less number of soth indians and west indians prefer Personal care and grooming products."
   ]
  },
  {
   "cell_type": "markdown",
   "metadata": {},
   "source": [
    "### visualizing count of every product categories with Age"
   ]
  },
  {
   "cell_type": "code",
   "execution_count": 61,
   "metadata": {
    "scrolled": false
   },
   "outputs": [
    {
     "data": {
      "image/png": "[encoded data removed]",
      "text/plain": [
       "<Figure size 1440x1440 with 5 Axes>"
      ]
     },
     "metadata": {
      "needs_background": "light"
     },
     "output_type": "display_data"
    }
   ],
   "source": [
    "plt.figure(figsize=(20,20))\n",
    "\n",
    "plt.subplot(3, 4, 1)\n",
    "sns.countplot(x='Age',hue='Accessories(wallets, shoes, jackets etc.)',data=df)\n",
    "\n",
    "plt.subplot(3, 4, 4)\n",
    "sns.countplot(x='Age',hue='Personal care and grooming products(perfume, makeup products etc.)',data=df)\n",
    "\n",
    "plt.subplot(3, 4, 5)\n",
    "sns.countplot(x='Age',hue='Devices(earphones, smart watches, headphones etc.)',data=df)\n",
    "\n",
    "plt.subplot(3, 4, 8)\n",
    "sns.countplot(x='Age',hue='Subscription of Streaming platforms(Amazon prime, Netflix etc.)',data=df)\n",
    "\n",
    "plt.subplot(3, 4, 9)\n",
    "sns.countplot(x='Age',hue='Novels',data=df)\n",
    "\n",
    "plt.show()"
   ]
  },
  {
   "cell_type": "markdown",
   "metadata": {},
   "source": [
    "#### CONCLUSION FROM THIS :-\n",
    "\n",
    "1.both age groups do not prefer Personal care and grooming products and novels much.   \n",
    "2.age group 15-20 prefer subscription of streaming platform less than 21-25 age group.          \n",
    "3.Devices are equally liked and unliked by both age groups"
   ]
  },
  {
   "cell_type": "markdown",
   "metadata": {},
   "source": [
    "### Visualizing REGION with every feature we have in our dataset"
   ]
  },
  {
   "cell_type": "markdown",
   "metadata": {},
   "source": [
    "#### region vs city"
   ]
  },
  {
   "cell_type": "code",
   "execution_count": 48,
   "metadata": {
    "scrolled": false
   },
   "outputs": [
    {
     "data": {
      "image/png": "[encoded data removed]",
      "text/plain": [
       "<Figure size 964.25x360 with 3 Axes>"
      ]
     },
     "metadata": {
      "needs_background": "light"
     },
     "output_type": "display_data"
    },
    {
     "data": {
      "image/png": "[encoded data removed]",
      "text/plain": [
       "<Figure size 1115.12x360 with 3 Axes>"
      ]
     },
     "metadata": {
      "needs_background": "light"
     },
     "output_type": "display_data"
    },
    {
     "data": {
      "image/png": "[encoded data removed]",
      "text/plain": [
       "<Figure size 1033.25x360 with 3 Axes>"
      ]
     },
     "metadata": {
      "needs_background": "light"
     },
     "output_type": "display_data"
    },
    {
     "data": {
      "image/png": "[encoded data removed]",
      "text/plain": [
       "<Figure size 1085x360 with 3 Axes>"
      ]
     },
     "metadata": {
      "needs_background": "light"
     },
     "output_type": "display_data"
    },
    {
     "data": {
      "image/png": "[encoded data removed]",
      "text/plain": [
       "<Figure size 798.375x360 with 3 Axes>"
      ]
     },
     "metadata": {
      "needs_background": "light"
     },
     "output_type": "display_data"
    }
   ],
   "source": [
    "sns.catplot(x=\"Region\", hue=\"Accessories(wallets, shoes, jackets etc.)\", col=\"City\",\n",
    "                data=df, kind=\"count\",\n",
    "                height=5, aspect=.7);\n",
    "sns.catplot(x=\"Region\", hue=\"Personal care and grooming products(perfume, makeup products etc.)\", col=\"City\",\n",
    "                data=df, kind=\"count\",\n",
    "                height=5, aspect=.7);\n",
    "\n",
    "sns.catplot(x=\"Region\", hue=\"Devices(earphones, smart watches, headphones etc.)\", col=\"City\",\n",
    "                data=df, kind=\"count\",\n",
    "                height=5, aspect=.7);\n",
    "\n",
    "sns.catplot(x=\"Region\", hue=\"Subscription of Streaming platforms(Amazon prime, Netflix etc.)\", col=\"City\",\n",
    "                data=df, kind=\"count\",\n",
    "                height=5, aspect=.7);\n",
    "\n",
    "sns.catplot(x=\"Region\", hue=\"Novels\", col=\"City\",\n",
    "                data=df, kind=\"count\",\n",
    "                height=5, aspect=.7);"
   ]
  },
  {
   "cell_type": "markdown",
   "metadata": {},
   "source": [
    "#### CONCLUSION FROM THIS :-\n",
    "\n",
    "ACCESSORIES---\n",
    "1. TIER-2 + NORTH INDIANS and TIER-1 + NORTH INIDANS do not prefer this.\n",
    "2. TIER-3 + WEST INDIANS also do not prefer this.\n",
    "3. TIER-3 + NORTH INDIANS prefer this.\n",
    "4. and all other combinations are equally likely to prefer and not prefer this.\n",
    "\n",
    "Personal care and grooming products---\n",
    "1. TIER-3 + NORTH and TIER-1 + NORTH INDIANS do not prefer Personal care and grooming products\n",
    "2. WEST INDIANS + TIER-3 prefers this but TIER-2 + WEST INDIANS do not prefer.\n",
    "\n",
    "Devices---\n",
    "1. TIER-3 + SOUTH , TIER-1 + NORTH , TIER-1 + WEST prefers this.\n",
    "2. TIER-2 + WEST , TIER3 + WEST do not prefer.\n",
    "3. and all other combinations are equally likely to prefer and not prefer this.\n",
    "\n",
    "Subscription of Streaming platforms---\n",
    "1. TIER-3 + NORTH , TIER-2 + NORTH , TIER-2 + SOUTH do not prefer this.\n",
    "2. TIER-3 + SOUTH , TIER-3 + WEST , TIER-2 + WEST , TIER-1 + NORTH , TIER-1 + SOUTH prefer this.\n",
    "\n",
    "Novels---\n",
    "1. TIER-3 + NORTH , TIER-2 + NORTH do not prefer this.\n",
    "2. TIER-3 + SOUTH , TIER-3 + WEST , TIER-1 + WEST prefer this.\n",
    "3. else are equally likely"
   ]
  },
  {
   "cell_type": "markdown",
   "metadata": {},
   "source": [
    "#### region vs gender"
   ]
  },
  {
   "cell_type": "code",
   "execution_count": 52,
   "metadata": {
    "scrolled": false
   },
   "outputs": [
    {
     "data": {
      "image/png": "[encoded data removed]",
      "text/plain": [
       "<Figure size 712.25x360 with 2 Axes>"
      ]
     },
     "metadata": {
      "needs_background": "light"
     },
     "output_type": "display_data"
    },
    {
     "data": {
      "image/png": "[encoded data removed]",
      "text/plain": [
       "<Figure size 863.125x360 with 2 Axes>"
      ]
     },
     "metadata": {
      "needs_background": "light"
     },
     "output_type": "display_data"
    },
    {
     "data": {
      "image/png": "[encoded data removed]",
      "text/plain": [
       "<Figure size 781.25x360 with 2 Axes>"
      ]
     },
     "metadata": {
      "needs_background": "light"
     },
     "output_type": "display_data"
    },
    {
     "data": {
      "image/png": "[encoded data removed]",
      "text/plain": [
       "<Figure size 833x360 with 2 Axes>"
      ]
     },
     "metadata": {
      "needs_background": "light"
     },
     "output_type": "display_data"
    },
    {
     "data": {
      "image/png": "[encoded data removed]",
      "text/plain": [
       "<Figure size 546.375x360 with 2 Axes>"
      ]
     },
     "metadata": {
      "needs_background": "light"
     },
     "output_type": "display_data"
    }
   ],
   "source": [
    "sns.catplot(x=\"Region\", hue=\"Accessories(wallets, shoes, jackets etc.)\", col=\"Gender\",\n",
    "                data=df, kind=\"count\",\n",
    "                height=5, aspect=.7);\n",
    "sns.catplot(x=\"Region\", hue=\"Personal care and grooming products(perfume, makeup products etc.)\", col=\"Gender\",\n",
    "                data=df, kind=\"count\",\n",
    "                height=5, aspect=.7);\n",
    "\n",
    "sns.catplot(x=\"Region\", hue=\"Devices(earphones, smart watches, headphones etc.)\", col=\"Gender\",\n",
    "                data=df, kind=\"count\",\n",
    "                height=5, aspect=.7);\n",
    "\n",
    "sns.catplot(x=\"Region\", hue=\"Subscription of Streaming platforms(Amazon prime, Netflix etc.)\", col=\"Gender\",\n",
    "                data=df, kind=\"count\",\n",
    "                height=5, aspect=.7);\n",
    "\n",
    "sns.catplot(x=\"Region\", hue=\"Novels\", col=\"Gender\",\n",
    "                data=df, kind=\"count\",\n",
    "                height=5, aspect=.7);"
   ]
  },
  {
   "cell_type": "markdown",
   "metadata": {},
   "source": [
    "#### CONCLUSION FROM THIS :-\n",
    "\n",
    "ACCESSORIES---\n",
    "1. MALE OF SOUTH prefer this.\n",
    "\n",
    "Personal care and grooming products---\n",
    "1. MALE do not prefer this.\n",
    "2. FEMALE OF SOUTH AND WEST prefer this while FEMALE OF NORTH do not prefer.\n",
    "\n",
    "Devices---\n",
    "1. MALE OF ALL REGION prefer this.\n",
    "2. FEMALE are less likelyto prefer.\n",
    "\n",
    "Subscription of Streaming platforms---\n",
    "1. except MALE of NORTH every MALE prefer this.\n",
    "2. FEMALE OF NORTH AND WEST do not prefer.\n",
    "\n",
    "Novels---\n",
    "1. FEMALE OF SOUTH AND WEST prefer this.\n",
    "2. NORTH INDIANS do not prefer this."
   ]
  },
  {
   "cell_type": "markdown",
   "metadata": {},
   "source": [
    " #### region vs age"
   ]
  },
  {
   "cell_type": "code",
   "execution_count": 64,
   "metadata": {
    "scrolled": false
   },
   "outputs": [
    {
     "data": {
      "image/png": "[encoded data removed]",
      "text/plain": [
       "<Figure size 712.25x360 with 2 Axes>"
      ]
     },
     "metadata": {
      "needs_background": "light"
     },
     "output_type": "display_data"
    },
    {
     "data": {
      "image/png": "[encoded data removed]",
      "text/plain": [
       "<Figure size 863.125x360 with 2 Axes>"
      ]
     },
     "metadata": {
      "needs_background": "light"
     },
     "output_type": "display_data"
    },
    {
     "data": {
      "image/png": "[encoded data removed]",
      "text/plain": [
       "<Figure size 781.25x360 with 2 Axes>"
      ]
     },
     "metadata": {
      "needs_background": "light"
     },
     "output_type": "display_data"
    },
    {
     "data": {
      "image/png": "[encoded data removed]",
      "text/plain": [
       "<Figure size 833x360 with 2 Axes>"
      ]
     },
     "metadata": {
      "needs_background": "light"
     },
     "output_type": "display_data"
    },
    {
     "data": {
      "image/png": "[encoded data removed]",
      "text/plain": [
       "<Figure size 546.375x360 with 2 Axes>"
      ]
     },
     "metadata": {
      "needs_background": "light"
     },
     "output_type": "display_data"
    }
   ],
   "source": [
    "sns.catplot(x=\"Region\", hue=\"Accessories(wallets, shoes, jackets etc.)\", col=\"Age\",\n",
    "                data=df, kind=\"count\",\n",
    "                height=5, aspect=.7);\n",
    "sns.catplot(x=\"Region\", hue=\"Personal care and grooming products(perfume, makeup products etc.)\", col=\"Age\",\n",
    "                data=df, kind=\"count\",\n",
    "                height=5, aspect=.7);\n",
    "\n",
    "sns.catplot(x=\"Region\", hue=\"Devices(earphones, smart watches, headphones etc.)\", col=\"Age\",\n",
    "                data=df, kind=\"count\",\n",
    "                height=5, aspect=.7);\n",
    "\n",
    "sns.catplot(x=\"Region\", hue=\"Subscription of Streaming platforms(Amazon prime, Netflix etc.)\", col=\"Age\",\n",
    "                data=df, kind=\"count\",\n",
    "                height=5, aspect=.7);\n",
    "\n",
    "sns.catplot(x=\"Region\", hue=\"Novels\", col=\"Age\",\n",
    "                data=df, kind=\"count\",\n",
    "                height=5, aspect=.7);"
   ]
  },
  {
   "cell_type": "markdown",
   "metadata": {},
   "source": [
    "#### CONCLUSION FROM THIS :-\n",
    "\n",
    "ACCESSORIES---                                                          \n",
    "1.NORTH INDIANS do not prefer.                           \n",
    "\n",
    "Personal care and grooming products---                                                        \n",
    "1.NORTH INDIANS do not prefer.                                                            \n",
    "2.AGE GROUP 21-25 do not prefer this.                                       \n",
    "\n",
    "Devices---                                                                        \n",
    "1.NORTH INDIANS WITH AGE GROUP 15-20 prefer this.                                                 \n",
    "2.else are equally likely.                                                              \n",
    "\n",
    "Subscription of Streaming platforms---                                                \n",
    "1.age group between 21-25 mostly prefer this except north indians.                                               \n",
    "\n",
    "Novels---                                                                      \n",
    "1.NORTH INDIANS do not prefer.                                                      \n",
    "2.AGE GROUP 15-20 prefer this except north indians.                              \n"
   ]
  },
  {
   "cell_type": "markdown",
   "metadata": {},
   "source": [
    "## Final conclusion based on the visualization:-\n",
    "\n",
    "#### NORTH INDIANS-\n",
    "1. North indians like devices product category. Mostly belongs to TIER-1 city and of age 21-25 years old.  \n",
    "2. North inidans with TIER-3 city prefers Accessories.\n",
    "3. North inidans with TIER-1 city prefers subscriptions of streaming platform.\n",
    "\n",
    "#### SOUTH INDIANS-\n",
    "1. South indians mostly prefer every product category like FEMALE prefer grooming products and novels , MALE prefer other products except these.\n",
    "2. But strongly we can say south indians with TIER-2 city do not prefer subscription of streaming platforms.\n",
    "\n",
    "#### WEST INDIANS-\n",
    "1. Females of west india with TIER-1 and TIER-3 city prefer novels. \n",
    "2. only TIER-1 city west indian male prefer devices. \n",
    "3. FEMALE of west india do not prefer subscription but MALE do.\n",
    "4. TIER-3 city do not prefer accessories."
   ]
  },
  {
   "cell_type": "markdown",
   "metadata": {},
   "source": [
    "## Checking correlation between features"
   ]
  },
  {
   "cell_type": "code",
   "execution_count": 66,
   "metadata": {},
   "outputs": [],
   "source": [
    "df=pd.read_csv(r\"C:\\Users\\hp\\Downloads\\analysis.csv\")\n",
    "df=df.drop(['Timestamp','State','Choose a product category'],axis=1)\n",
    "# label encoding the data\n",
    "from sklearn.preprocessing import LabelEncoder\n",
    "\n",
    "le = LabelEncoder()\n",
    "df['Gender']=le.fit_transform(df['Gender'])\n",
    "df['Age']=le.fit_transform(df['Age'])\n",
    "df['City']=le.fit_transform(df['City'])\n",
    "df['Region']=le.fit_transform(df['Region'])"
   ]
  },
  {
   "cell_type": "code",
   "execution_count": 68,
   "metadata": {},
   "outputs": [
    {
     "data": {
      "text/html": [
       "<div>\n",
       "<style scoped>\n",
       "    .dataframe tbody tr th:only-of-type {\n",
       "        vertical-align: middle;\n",
       "    }\n",
       "\n",
       "    .dataframe tbody tr th {\n",
       "        vertical-align: top;\n",
       "    }\n",
       "\n",
       "    .dataframe thead th {\n",
       "        text-align: right;\n",
       "    }\n",
       "</style>\n",
       "<table border=\"1\" class=\"dataframe\">\n",
       "  <thead>\n",
       "    <tr style=\"text-align: right;\">\n",
       "      <th></th>\n",
       "      <th>Gender</th>\n",
       "      <th>Age</th>\n",
       "      <th>City</th>\n",
       "      <th>Region</th>\n",
       "    </tr>\n",
       "  </thead>\n",
       "  <tbody>\n",
       "    <tr>\n",
       "      <th>Gender</th>\n",
       "      <td>1.000000</td>\n",
       "      <td>0.194599</td>\n",
       "      <td>-0.094270</td>\n",
       "      <td>-0.156319</td>\n",
       "    </tr>\n",
       "    <tr>\n",
       "      <th>Age</th>\n",
       "      <td>0.194599</td>\n",
       "      <td>1.000000</td>\n",
       "      <td>0.042207</td>\n",
       "      <td>-0.097004</td>\n",
       "    </tr>\n",
       "    <tr>\n",
       "      <th>City</th>\n",
       "      <td>-0.094270</td>\n",
       "      <td>0.042207</td>\n",
       "      <td>1.000000</td>\n",
       "      <td>0.095942</td>\n",
       "    </tr>\n",
       "    <tr>\n",
       "      <th>Region</th>\n",
       "      <td>-0.156319</td>\n",
       "      <td>-0.097004</td>\n",
       "      <td>0.095942</td>\n",
       "      <td>1.000000</td>\n",
       "    </tr>\n",
       "  </tbody>\n",
       "</table>\n",
       "</div>"
      ],
      "text/plain": [
       "          Gender       Age      City    Region\n",
       "Gender  1.000000  0.194599 -0.094270 -0.156319\n",
       "Age     0.194599  1.000000  0.042207 -0.097004\n",
       "City   -0.094270  0.042207  1.000000  0.095942\n",
       "Region -0.156319 -0.097004  0.095942  1.000000"
      ]
     },
     "execution_count": 68,
     "metadata": {},
     "output_type": "execute_result"
    }
   ],
   "source": [
    "df.corr()"
   ]
  },
  {
   "cell_type": "markdown",
   "metadata": {},
   "source": [
    "#### Here we can say every feature is independent of eachother so we can proceed further with this."
   ]
  },
  {
   "cell_type": "code",
   "execution_count": 70,
   "metadata": {},
   "outputs": [
    {
     "data": {
      "text/html": [
       "<div>\n",
       "<style scoped>\n",
       "    .dataframe tbody tr th:only-of-type {\n",
       "        vertical-align: middle;\n",
       "    }\n",
       "\n",
       "    .dataframe tbody tr th {\n",
       "        vertical-align: top;\n",
       "    }\n",
       "\n",
       "    .dataframe thead th {\n",
       "        text-align: right;\n",
       "    }\n",
       "</style>\n",
       "<table border=\"1\" class=\"dataframe\">\n",
       "  <thead>\n",
       "    <tr style=\"text-align: right;\">\n",
       "      <th></th>\n",
       "      <th>Gender_Female</th>\n",
       "      <th>Gender_Male</th>\n",
       "      <th>Age_15-20</th>\n",
       "      <th>Age_21-25</th>\n",
       "      <th>City_Tier 1 City</th>\n",
       "      <th>City_Tier 2 City</th>\n",
       "      <th>City_Tier 3 City</th>\n",
       "      <th>Region_Eastern India</th>\n",
       "      <th>Region_Northern India</th>\n",
       "      <th>Region_Southern India</th>\n",
       "      <th>Region_Western India</th>\n",
       "      <th>Accessories(wallets, shoes, jackets etc.)</th>\n",
       "      <th>Personal care and grooming products(perfume, makeup products etc.)</th>\n",
       "      <th>Devices(earphones, smart watches, headphones etc.)</th>\n",
       "      <th>Subscription of Streaming platforms(Amazon prime, Netflix etc.)</th>\n",
       "      <th>Novels</th>\n",
       "    </tr>\n",
       "  </thead>\n",
       "  <tbody>\n",
       "    <tr>\n",
       "      <th>0</th>\n",
       "      <td>0</td>\n",
       "      <td>1</td>\n",
       "      <td>0</td>\n",
       "      <td>1</td>\n",
       "      <td>0</td>\n",
       "      <td>0</td>\n",
       "      <td>1</td>\n",
       "      <td>0</td>\n",
       "      <td>1</td>\n",
       "      <td>0</td>\n",
       "      <td>0</td>\n",
       "      <td>1</td>\n",
       "      <td>0</td>\n",
       "      <td>0</td>\n",
       "      <td>0</td>\n",
       "      <td>0</td>\n",
       "    </tr>\n",
       "    <tr>\n",
       "      <th>1</th>\n",
       "      <td>1</td>\n",
       "      <td>0</td>\n",
       "      <td>0</td>\n",
       "      <td>1</td>\n",
       "      <td>0</td>\n",
       "      <td>0</td>\n",
       "      <td>1</td>\n",
       "      <td>0</td>\n",
       "      <td>1</td>\n",
       "      <td>0</td>\n",
       "      <td>0</td>\n",
       "      <td>0</td>\n",
       "      <td>1</td>\n",
       "      <td>0</td>\n",
       "      <td>0</td>\n",
       "      <td>0</td>\n",
       "    </tr>\n",
       "    <tr>\n",
       "      <th>2</th>\n",
       "      <td>1</td>\n",
       "      <td>0</td>\n",
       "      <td>1</td>\n",
       "      <td>0</td>\n",
       "      <td>0</td>\n",
       "      <td>1</td>\n",
       "      <td>0</td>\n",
       "      <td>0</td>\n",
       "      <td>1</td>\n",
       "      <td>0</td>\n",
       "      <td>0</td>\n",
       "      <td>0</td>\n",
       "      <td>1</td>\n",
       "      <td>0</td>\n",
       "      <td>0</td>\n",
       "      <td>0</td>\n",
       "    </tr>\n",
       "    <tr>\n",
       "      <th>3</th>\n",
       "      <td>0</td>\n",
       "      <td>1</td>\n",
       "      <td>1</td>\n",
       "      <td>0</td>\n",
       "      <td>0</td>\n",
       "      <td>1</td>\n",
       "      <td>0</td>\n",
       "      <td>0</td>\n",
       "      <td>1</td>\n",
       "      <td>0</td>\n",
       "      <td>0</td>\n",
       "      <td>1</td>\n",
       "      <td>0</td>\n",
       "      <td>0</td>\n",
       "      <td>0</td>\n",
       "      <td>0</td>\n",
       "    </tr>\n",
       "    <tr>\n",
       "      <th>4</th>\n",
       "      <td>0</td>\n",
       "      <td>1</td>\n",
       "      <td>1</td>\n",
       "      <td>0</td>\n",
       "      <td>0</td>\n",
       "      <td>1</td>\n",
       "      <td>0</td>\n",
       "      <td>0</td>\n",
       "      <td>1</td>\n",
       "      <td>0</td>\n",
       "      <td>0</td>\n",
       "      <td>0</td>\n",
       "      <td>0</td>\n",
       "      <td>1</td>\n",
       "      <td>0</td>\n",
       "      <td>0</td>\n",
       "    </tr>\n",
       "    <tr>\n",
       "      <th>...</th>\n",
       "      <td>...</td>\n",
       "      <td>...</td>\n",
       "      <td>...</td>\n",
       "      <td>...</td>\n",
       "      <td>...</td>\n",
       "      <td>...</td>\n",
       "      <td>...</td>\n",
       "      <td>...</td>\n",
       "      <td>...</td>\n",
       "      <td>...</td>\n",
       "      <td>...</td>\n",
       "      <td>...</td>\n",
       "      <td>...</td>\n",
       "      <td>...</td>\n",
       "      <td>...</td>\n",
       "      <td>...</td>\n",
       "    </tr>\n",
       "    <tr>\n",
       "      <th>135</th>\n",
       "      <td>0</td>\n",
       "      <td>1</td>\n",
       "      <td>0</td>\n",
       "      <td>1</td>\n",
       "      <td>1</td>\n",
       "      <td>0</td>\n",
       "      <td>0</td>\n",
       "      <td>0</td>\n",
       "      <td>0</td>\n",
       "      <td>1</td>\n",
       "      <td>0</td>\n",
       "      <td>1</td>\n",
       "      <td>0</td>\n",
       "      <td>0</td>\n",
       "      <td>1</td>\n",
       "      <td>0</td>\n",
       "    </tr>\n",
       "    <tr>\n",
       "      <th>136</th>\n",
       "      <td>0</td>\n",
       "      <td>1</td>\n",
       "      <td>0</td>\n",
       "      <td>1</td>\n",
       "      <td>0</td>\n",
       "      <td>0</td>\n",
       "      <td>1</td>\n",
       "      <td>0</td>\n",
       "      <td>0</td>\n",
       "      <td>1</td>\n",
       "      <td>0</td>\n",
       "      <td>1</td>\n",
       "      <td>0</td>\n",
       "      <td>0</td>\n",
       "      <td>0</td>\n",
       "      <td>1</td>\n",
       "    </tr>\n",
       "    <tr>\n",
       "      <th>137</th>\n",
       "      <td>0</td>\n",
       "      <td>1</td>\n",
       "      <td>1</td>\n",
       "      <td>0</td>\n",
       "      <td>0</td>\n",
       "      <td>0</td>\n",
       "      <td>1</td>\n",
       "      <td>0</td>\n",
       "      <td>0</td>\n",
       "      <td>1</td>\n",
       "      <td>0</td>\n",
       "      <td>0</td>\n",
       "      <td>0</td>\n",
       "      <td>1</td>\n",
       "      <td>0</td>\n",
       "      <td>1</td>\n",
       "    </tr>\n",
       "    <tr>\n",
       "      <th>138</th>\n",
       "      <td>1</td>\n",
       "      <td>0</td>\n",
       "      <td>1</td>\n",
       "      <td>0</td>\n",
       "      <td>0</td>\n",
       "      <td>1</td>\n",
       "      <td>0</td>\n",
       "      <td>0</td>\n",
       "      <td>0</td>\n",
       "      <td>1</td>\n",
       "      <td>0</td>\n",
       "      <td>1</td>\n",
       "      <td>0</td>\n",
       "      <td>1</td>\n",
       "      <td>0</td>\n",
       "      <td>0</td>\n",
       "    </tr>\n",
       "    <tr>\n",
       "      <th>139</th>\n",
       "      <td>1</td>\n",
       "      <td>0</td>\n",
       "      <td>1</td>\n",
       "      <td>0</td>\n",
       "      <td>1</td>\n",
       "      <td>0</td>\n",
       "      <td>0</td>\n",
       "      <td>0</td>\n",
       "      <td>0</td>\n",
       "      <td>1</td>\n",
       "      <td>0</td>\n",
       "      <td>1</td>\n",
       "      <td>1</td>\n",
       "      <td>0</td>\n",
       "      <td>0</td>\n",
       "      <td>1</td>\n",
       "    </tr>\n",
       "  </tbody>\n",
       "</table>\n",
       "<p>140 rows × 16 columns</p>\n",
       "</div>"
      ],
      "text/plain": [
       "     Gender_Female  Gender_Male  Age_15-20  Age_21-25  City_Tier 1 City  \\\n",
       "0                0            1          0          1                 0   \n",
       "1                1            0          0          1                 0   \n",
       "2                1            0          1          0                 0   \n",
       "3                0            1          1          0                 0   \n",
       "4                0            1          1          0                 0   \n",
       "..             ...          ...        ...        ...               ...   \n",
       "135              0            1          0          1                 1   \n",
       "136              0            1          0          1                 0   \n",
       "137              0            1          1          0                 0   \n",
       "138              1            0          1          0                 0   \n",
       "139              1            0          1          0                 1   \n",
       "\n",
       "     City_Tier 2 City  City_Tier 3 City  Region_Eastern India  \\\n",
       "0                   0                 1                     0   \n",
       "1                   0                 1                     0   \n",
       "2                   1                 0                     0   \n",
       "3                   1                 0                     0   \n",
       "4                   1                 0                     0   \n",
       "..                ...               ...                   ...   \n",
       "135                 0                 0                     0   \n",
       "136                 0                 1                     0   \n",
       "137                 0                 1                     0   \n",
       "138                 1                 0                     0   \n",
       "139                 0                 0                     0   \n",
       "\n",
       "     Region_Northern India  Region_Southern India  Region_Western India  \\\n",
       "0                        1                      0                     0   \n",
       "1                        1                      0                     0   \n",
       "2                        1                      0                     0   \n",
       "3                        1                      0                     0   \n",
       "4                        1                      0                     0   \n",
       "..                     ...                    ...                   ...   \n",
       "135                      0                      1                     0   \n",
       "136                      0                      1                     0   \n",
       "137                      0                      1                     0   \n",
       "138                      0                      1                     0   \n",
       "139                      0                      1                     0   \n",
       "\n",
       "    Accessories(wallets, shoes, jackets etc.)  \\\n",
       "0                                           1   \n",
       "1                                           0   \n",
       "2                                           0   \n",
       "3                                           1   \n",
       "4                                           0   \n",
       "..                                        ...   \n",
       "135                                         1   \n",
       "136                                         1   \n",
       "137                                         0   \n",
       "138                                         1   \n",
       "139                                         1   \n",
       "\n",
       "    Personal care and grooming products(perfume, makeup products etc.)  \\\n",
       "0                                                    0                   \n",
       "1                                                    1                   \n",
       "2                                                    1                   \n",
       "3                                                    0                   \n",
       "4                                                    0                   \n",
       "..                                                 ...                   \n",
       "135                                                  0                   \n",
       "136                                                  0                   \n",
       "137                                                  0                   \n",
       "138                                                  0                   \n",
       "139                                                  1                   \n",
       "\n",
       "    Devices(earphones, smart watches, headphones etc.)  \\\n",
       "0                                                    0   \n",
       "1                                                    0   \n",
       "2                                                    0   \n",
       "3                                                    0   \n",
       "4                                                    1   \n",
       "..                                                 ...   \n",
       "135                                                  0   \n",
       "136                                                  0   \n",
       "137                                                  1   \n",
       "138                                                  1   \n",
       "139                                                  0   \n",
       "\n",
       "    Subscription of Streaming platforms(Amazon prime, Netflix etc.) Novels  \n",
       "0                                                    0                   0  \n",
       "1                                                    0                   0  \n",
       "2                                                    0                   0  \n",
       "3                                                    0                   0  \n",
       "4                                                    0                   0  \n",
       "..                                                 ...                 ...  \n",
       "135                                                  1                   0  \n",
       "136                                                  0                   1  \n",
       "137                                                  0                   1  \n",
       "138                                                  0                   0  \n",
       "139                                                  0                   1  \n",
       "\n",
       "[140 rows x 16 columns]"
      ]
     },
     "execution_count": 70,
     "metadata": {},
     "output_type": "execute_result"
    }
   ],
   "source": [
    "final_df"
   ]
  },
  {
   "cell_type": "code",
   "execution_count": 215,
   "metadata": {},
   "outputs": [
    {
     "name": "stdout",
     "output_type": "stream",
     "text": [
      "(140, 11)\n",
      "(140, 5)\n"
     ]
    }
   ],
   "source": [
    "X=final_df.iloc[:,0:11]\n",
    "y=final_df.iloc[:,11:16]\n",
    "\n",
    "print(X.shape)\n",
    "print(y.shape)\n"
   ]
  },
  {
   "cell_type": "code",
   "execution_count": 216,
   "metadata": {},
   "outputs": [],
   "source": [
    "# splitting data to test and train \n",
    "\n",
    "from sklearn.model_selection import train_test_split\n",
    "X_train, X_test, y_train, y_test = train_test_split(X, y, test_size=0.2, random_state=42)"
   ]
  },
  {
   "cell_type": "code",
   "execution_count": 26,
   "metadata": {},
   "outputs": [
    {
     "name": "stdout",
     "output_type": "stream",
     "text": [
      "(112, 11)\n",
      "(28, 11)\n",
      "(112, 5)\n",
      "(28, 5)\n"
     ]
    }
   ],
   "source": [
    "print(X_train.shape)\n",
    "print(X_test.shape)\n",
    "print(y_train.shape)\n",
    "print(y_test.shape)"
   ]
  },
  {
   "cell_type": "markdown",
   "metadata": {},
   "source": [
    "# Model Building & Evaluation"
   ]
  },
  {
   "cell_type": "code",
   "execution_count": 126,
   "metadata": {},
   "outputs": [],
   "source": [
    "from scipy import sparse\n",
    "y=y_train.astype(float)\n",
    "y_train = sparse.csr_matrix(y)\n",
    "\n",
    "y=y_test.astype(float)\n",
    "y_test=sparse.csr_matrix(y)"
   ]
  },
  {
   "cell_type": "markdown",
   "metadata": {},
   "source": [
    "### This is multilabel problem so will try using different methods:\n",
    "1. Binary Relevance\n",
    "2. Classifier Chains\n",
    "3. Adapted Algorithm (KNN)"
   ]
  },
  {
   "cell_type": "code",
   "execution_count": 129,
   "metadata": {},
   "outputs": [],
   "source": [
    "# using binary relevance\n",
    "\n",
    "from skmultilearn.problem_transform import BinaryRelevance\n",
    "from sklearn.naive_bayes import GaussianNB\n",
    "\n",
    "# initialize binary relevance multi-label classifier\n",
    "# with a gaussian naive bayes base classifier\n",
    "classifier = BinaryRelevance(GaussianNB())\n",
    "\n",
    "# train\n",
    "classifier.fit(X_train, y_train)\n",
    "\n",
    "# predict\n",
    "predictions = classifier.predict(X_test)"
   ]
  },
  {
   "cell_type": "code",
   "execution_count": 130,
   "metadata": {},
   "outputs": [
    {
     "data": {
      "text/plain": [
       "0.03571428571428571"
      ]
     },
     "execution_count": 130,
     "metadata": {},
     "output_type": "execute_result"
    }
   ],
   "source": [
    "from sklearn.metrics import accuracy_score\n",
    "accuracy_score(y_test,predictions)"
   ]
  },
  {
   "cell_type": "code",
   "execution_count": 131,
   "metadata": {
    "scrolled": true
   },
   "outputs": [
    {
     "data": {
      "text/plain": [
       "0.03571428571428571"
      ]
     },
     "execution_count": 131,
     "metadata": {},
     "output_type": "execute_result"
    }
   ],
   "source": [
    "# using classifier chains\n",
    "\n",
    "from skmultilearn.problem_transform import ClassifierChain\n",
    "from sklearn.naive_bayes import GaussianNB\n",
    "\n",
    "# initialize classifier chains multi-label classifier\n",
    "# with a gaussian naive bayes base classifier\n",
    "classifier = ClassifierChain(GaussianNB())\n",
    "\n",
    "# train\n",
    "classifier.fit(X_train, y_train)\n",
    "\n",
    "# predict\n",
    "predictions = classifier.predict(X_test)\n",
    "\n",
    "accuracy_score(y_test,predictions)"
   ]
  },
  {
   "cell_type": "code",
   "execution_count": 144,
   "metadata": {},
   "outputs": [
    {
     "name": "stderr",
     "output_type": "stream",
     "text": [
      "C:\\Users\\hp\\anaconda3\\envs\\tensorflow_keras\\lib\\site-packages\\sklearn\\utils\\validation.py:70: FutureWarning: Pass n_neighbors=100 as keyword args. From version 1.0 (renaming of 0.25) passing these as positional arguments will result in an error\n",
      "  warnings.warn(f\"Pass {args_msg} as keyword args. From version \"\n"
     ]
    },
    {
     "data": {
      "text/plain": [
       "0.21428571428571427"
      ]
     },
     "execution_count": 144,
     "metadata": {},
     "output_type": "execute_result"
    }
   ],
   "source": [
    "from skmultilearn.adapt import MLkNN\n",
    "\n",
    "classifier = MLkNN(k=100)\n",
    "\n",
    "# train\n",
    "classifier.fit(X_train, y_train)\n",
    "\n",
    "# predict\n",
    "predictions = classifier.predict(X_test)\n",
    "\n",
    "accuracy_score(y_test,predictions)"
   ]
  },
  {
   "cell_type": "markdown",
   "metadata": {},
   "source": [
    "### Tried with svm"
   ]
  },
  {
   "cell_type": "code",
   "execution_count": 299,
   "metadata": {},
   "outputs": [
    {
     "data": {
      "text/plain": [
       "SVC()"
      ]
     },
     "execution_count": 299,
     "metadata": {},
     "output_type": "execute_result"
    }
   ],
   "source": [
    "from sklearn import svm\n",
    "\n",
    "s1=svm.SVC()\n",
    "s1.fit(X_train,y_train.iloc[:,0].astype('int'))\n",
    "\n",
    "s2=svm.SVC()\n",
    "s2.fit(X_train, y_train.iloc[:,1].astype('int'))\n",
    "\n",
    "s3=svm.SVC()\n",
    "s3.fit(X_train, y_train.iloc[:,2].astype('int'))\n",
    "\n",
    "s4=svm.SVC()\n",
    "s4.fit(X_train, y_train.iloc[:,3].astype('int'))\n",
    "\n",
    "s5=svm.SVC()\n",
    "s5.fit(X_train, y_train.iloc[:,4].astype('int'))"
   ]
  },
  {
   "cell_type": "code",
   "execution_count": 300,
   "metadata": {
    "scrolled": true
   },
   "outputs": [],
   "source": [
    "l1=[]\n",
    "fi=[]\n",
    "for index, row in X_test.iterrows():\n",
    "    row=np.asarray(row)\n",
    "    row=row.reshape(1,-1)\n",
    "    p0=m1.predict(row)\n",
    "    p1=m2.predict(row)\n",
    "    p2=m3.predict(row)\n",
    "    p3=m4.predict(row)\n",
    "    p4=m5.predict(row)\n",
    "    l1=[p0,p1,p2,p3,p4]\n",
    "    fi.append(l1)"
   ]
  },
  {
   "cell_type": "code",
   "execution_count": 301,
   "metadata": {
    "scrolled": true
   },
   "outputs": [],
   "source": [
    "from scipy import sparse\n",
    "y_test=np.asarray(y_test)\n",
    "y=y_test.astype(float)\n",
    "y_ = sparse.csr_matrix(y)\n",
    "fi=np.asarray(fi)\n",
    "y=fi.astype(float)\n",
    "y=y.reshape(28,5)\n",
    "y_fi=sparse.csr_matrix(y)"
   ]
  },
  {
   "cell_type": "code",
   "execution_count": 302,
   "metadata": {
    "scrolled": true
   },
   "outputs": [
    {
     "data": {
      "text/plain": [
       "0.07142857142857142"
      ]
     },
     "execution_count": 302,
     "metadata": {},
     "output_type": "execute_result"
    }
   ],
   "source": [
    "accuracy_score(y_,y_fi)"
   ]
  },
  {
   "cell_type": "markdown",
   "metadata": {},
   "source": [
    "## Now will try using one vs rest methoad and using jaccard score for evaluating"
   ]
  },
  {
   "cell_type": "code",
   "execution_count": 293,
   "metadata": {},
   "outputs": [],
   "source": [
    "from sklearn.linear_model import SGDClassifier\n",
    "from sklearn.linear_model import LogisticRegression\n",
    "from sklearn.svm import LinearSVC\n",
    "from sklearn.naive_bayes import MultinomialNB\n",
    "from sklearn.ensemble import RandomForestClassifier\n",
    "\n",
    "from sklearn.multiclass import OneVsRestClassifier"
   ]
  },
  {
   "cell_type": "code",
   "execution_count": 291,
   "metadata": {},
   "outputs": [],
   "source": [
    "sgd=SGDClassifier()\n",
    "lr=LogisticRegression(solver=\"lbfgs\")\n",
    "svc=LinearSVC()\n",
    "mnb = MultinomialNB()\n",
    "rf=RandomForestClassifier()"
   ]
  },
  {
   "cell_type": "code",
   "execution_count": 254,
   "metadata": {},
   "outputs": [],
   "source": [
    "def j_score(y_true,y_pred):\n",
    "    jaccard=np.minimum(y_true,y_pred).sum(axis=1)/np.maximum(y_true,y_pred).sum(axis=1)\n",
    "    return jaccard.mean()*100\n",
    "\n",
    "def print_score(y_pred,clf):\n",
    "    print(\"clf: \",clf.__class__.__name__)\n",
    "    print(\"jaccard_score: {}\".format(j_score(y_test,y_pred)))\n",
    "    print(\"---\")"
   ]
  },
  {
   "cell_type": "code",
   "execution_count": 294,
   "metadata": {},
   "outputs": [
    {
     "name": "stdout",
     "output_type": "stream",
     "text": [
      "clf:  SGDClassifier\n",
      "jaccard_score: 30.119047619047617\n",
      "---\n",
      "clf:  LogisticRegression\n",
      "jaccard_score: 37.38095238095238\n",
      "---\n",
      "clf:  LinearSVC\n",
      "jaccard_score: 40.952380952380956\n",
      "---\n",
      "clf:  MultinomialNB\n",
      "jaccard_score: 30.773809523809526\n",
      "---\n",
      "clf:  RandomForestClassifier\n",
      "jaccard_score: 27.023809523809522\n",
      "---\n"
     ]
    }
   ],
   "source": [
    "for classifier in [sgd,lr,svc,mnb,rf]:\n",
    "    clf=OneVsRestClassifier(classifier)\n",
    "    clf.fit(X_train,y_train1)\n",
    "    y_pred=clf.predict(X_test)\n",
    "    print_score(y_pred,classifier)"
   ]
  },
  {
   "cell_type": "markdown",
   "metadata": {},
   "source": [
    "#### out of these best jaccard score is given by LinearSVC i.e. 40.9"
   ]
  },
  {
   "cell_type": "code",
   "execution_count": 252,
   "metadata": {},
   "outputs": [],
   "source": []
  },
  {
   "cell_type": "code",
   "execution_count": null,
   "metadata": {},
   "outputs": [],
   "source": []
  },
  {
   "cell_type": "code",
   "execution_count": null,
   "metadata": {},
   "outputs": [],
   "source": []
  },
  {
   "cell_type": "code",
   "execution_count": null,
   "metadata": {},
   "outputs": [],
   "source": []
  },
  {
   "cell_type": "code",
   "execution_count": null,
   "metadata": {},
   "outputs": [],
   "source": []
  }
 ],
 "metadata": {
  "kernelspec": {
   "display_name": "Python 3",
   "language": "python",
   "name": "python3"
  },
  "language_info": {
   "codemirror_mode": {
    "name": "ipython",
    "version": 3
   },
   "file_extension": ".py",
   "mimetype": "text/x-python",
   "name": "python",
   "nbconvert_exporter": "python",
   "pygments_lexer": "ipython3",
   "version": "3.8.8"
  }
 },
 "nbformat": 4,
 "nbformat_minor": 4
}
